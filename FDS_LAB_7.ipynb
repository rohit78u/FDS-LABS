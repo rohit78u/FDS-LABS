{
  "nbformat": 4,
  "nbformat_minor": 0,
  "metadata": {
    "colab": {
      "provenance": []
    },
    "kernelspec": {
      "name": "python3",
      "display_name": "Python 3"
    },
    "language_info": {
      "name": "python"
    }
  },
  "cells": [
    {
      "cell_type": "code",
      "execution_count": 1,
      "metadata": {
        "colab": {
          "base_uri": "https://localhost:8080/"
        },
        "id": "AlGDu6IQB7qB",
        "outputId": "5413c7b9-b57b-46c9-ff2c-d0f445d52d2e"
      },
      "outputs": [
        {
          "output_type": "stream",
          "name": "stdout",
          "text": [
            "Frequent Itemsets (with support >= 50%):\n",
            "['Bread'] -> Support: 0.80\n",
            "['Cheese'] -> Support: 0.60\n",
            "['Juice'] -> Support: 0.80\n",
            "['Milk'] -> Support: 0.60\n",
            "['Bread', 'Juice'] -> Support: 0.60\n",
            "['Cheese', 'Juice'] -> Support: 0.60\n",
            "\n",
            "Association Rules (Confidence >= 75%):\n",
            "['Cheese'] -> ['Juice'] | Support: 0.60, Confidence: 1.00\n"
          ]
        }
      ],
      "source": [
        "\n",
        "\n",
        "from itertools import combinations\n",
        "\n",
        "# Transaction Dataset\n",
        "transactions = [\n",
        "    [\"Bread\", \"Cheese\", \"Egg\", \"Juice\"],\n",
        "    [\"Bread\", \"Cheese\", \"Juice\"],\n",
        "    [\"Bread\", \"Milk\", \"Yogurt\"],\n",
        "    [\"Bread\", \"Juice\", \"Milk\"],\n",
        "    [\"Cheese\", \"Juice\", \"Milk\"]\n",
        "]\n",
        "\n",
        "# Parameters\n",
        "min_support = 0.5   # 50%\n",
        "min_confidence = 0.75  # 75%\n",
        "num_transactions = len(transactions)\n",
        "\n",
        "# Function to calculate support\n",
        "def calculate_support(itemset):\n",
        "    count = 0\n",
        "    for transaction in transactions:\n",
        "        if all(item in transaction for item in itemset):\n",
        "            count += 1\n",
        "    return count / num_transactions\n",
        "\n",
        "\n",
        "def generate_candidates(itemset_list, length):\n",
        "    candidates = []\n",
        "    for i in range(len(itemset_list)):\n",
        "        for j in range(i+1, len(itemset_list)):\n",
        "            candidate = sorted(list(set(itemset_list[i]) | set(itemset_list[j])))\n",
        "            if len(candidate) == length and candidate not in candidates:\n",
        "                candidates.append(candidate)\n",
        "    return candidates\n",
        "\n",
        "# Apriori Algorithm\n",
        "def apriori():\n",
        "\n",
        "    items = sorted(set([item for transaction in transactions for item in transaction]))\n",
        "    current_itemsets = [[item] for item in items]\n",
        "    frequent_itemsets = []\n",
        "\n",
        "    k = 1\n",
        "    while current_itemsets:\n",
        "        valid_itemsets = []\n",
        "        for itemset in current_itemsets:\n",
        "            support = calculate_support(itemset)\n",
        "            if support >= min_support:\n",
        "                valid_itemsets.append(itemset)\n",
        "                frequent_itemsets.append((itemset, support))\n",
        "        k += 1\n",
        "        current_itemsets = generate_candidates(valid_itemsets, k)\n",
        "\n",
        "    return frequent_itemsets\n",
        "\n",
        "# Generate association rules\n",
        "def generate_rules(frequent_itemsets):\n",
        "    rules = []\n",
        "    for itemset, support in frequent_itemsets:\n",
        "        if len(itemset) > 1:\n",
        "            for i in range(1, len(itemset)):\n",
        "                for antecedent in combinations(itemset, i):\n",
        "                    antecedent = list(antecedent)\n",
        "                    consequent = [x for x in itemset if x not in antecedent]\n",
        "                    support_itemset = calculate_support(itemset)\n",
        "                    support_antecedent = calculate_support(antecedent)\n",
        "                    confidence = support_itemset / support_antecedent\n",
        "                    if confidence >= min_confidence:\n",
        "                        rules.append((antecedent, consequent, support_itemset, confidence))\n",
        "    return rules\n",
        "\n",
        "\n",
        "# Run Apriori\n",
        "frequent_itemsets = apriori()\n",
        "rules = generate_rules(frequent_itemsets)\n",
        "\n",
        "\n",
        "print(\"Frequent Itemsets (with support >= 50%):\")\n",
        "for itemset, support in frequent_itemsets:\n",
        "    print(f\"{itemset} -> Support: {support:.2f}\")\n",
        "\n",
        "print(\"\\nAssociation Rules (Confidence >= 75%):\")\n",
        "for antecedent, consequent, support, confidence in rules:\n",
        "    print(f\"{antecedent} -> {consequent} | Support: {support:.2f}, Confidence: {confidence:.2f}\")\n"
      ]
    }
  ]
}